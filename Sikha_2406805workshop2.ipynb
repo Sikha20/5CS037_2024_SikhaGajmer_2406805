{
 "cells": [
  {
   "cell_type": "code",
   "execution_count": 9,
   "metadata": {
    "colab": {
     "base_uri": "https://localhost:8080/"
    },
    "id": "EtS-5IXn8S7B",
    "outputId": "3bc1fea9-a313-4189-994a-3deb9a0b9714"
   },
   "outputs": [
    {
     "name": "stdout",
     "output_type": "stream",
     "text": [
      "   age           job  marital  education default  balance housing loan  \\\n",
      "0   58    management  married   tertiary      no     2143     yes   no   \n",
      "1   44    technician   single  secondary      no       29     yes   no   \n",
      "2   33  entrepreneur  married  secondary      no        2     yes  yes   \n",
      "3   47   blue-collar  married    unknown      no     1506     yes   no   \n",
      "4   33       unknown   single    unknown      no        1      no   no   \n",
      "\n",
      "   contact  day month  duration  campaign  pdays  previous poutcome   y  \n",
      "0  unknown    5   may       261         1     -1         0  unknown  no  \n",
      "1  unknown    5   may       151         1     -1         0  unknown  no  \n",
      "2  unknown    5   may        76         1     -1         0  unknown  no  \n",
      "3  unknown    5   may        92         1     -1         0  unknown  no  \n",
      "4  unknown    5   may       198         1     -1         0  unknown  no  \n"
     ]
    }
   ],
   "source": [
    "\n",
    "import pandas as pd\n",
    "df = pd.read_csv('./bank.csv')\n",
    "print(df.head())\n"
   ]
  },
  {
   "cell_type": "code",
   "execution_count": 10,
   "metadata": {
    "colab": {
     "base_uri": "https://localhost:8080/"
    },
    "id": "9t4-QsfzEBUN",
    "outputId": "1b710603-4e2d-42f8-ed65-422a97381094"
   },
   "outputs": [
    {
     "name": "stdout",
     "output_type": "stream",
     "text": [
      "<class 'pandas.core.frame.DataFrame'>\n",
      "RangeIndex: 45211 entries, 0 to 45210\n",
      "Data columns (total 17 columns):\n",
      " #   Column     Non-Null Count  Dtype \n",
      "---  ------     --------------  ----- \n",
      " 0   age        45211 non-null  int64 \n",
      " 1   job        45211 non-null  object\n",
      " 2   marital    45211 non-null  object\n",
      " 3   education  45211 non-null  object\n",
      " 4   default    45211 non-null  object\n",
      " 5   balance    45211 non-null  int64 \n",
      " 6   housing    45211 non-null  object\n",
      " 7   loan       45211 non-null  object\n",
      " 8   contact    45211 non-null  object\n",
      " 9   day        45211 non-null  int64 \n",
      " 10  month      45211 non-null  object\n",
      " 11  duration   45211 non-null  int64 \n",
      " 12  campaign   45211 non-null  int64 \n",
      " 13  pdays      45211 non-null  int64 \n",
      " 14  previous   45211 non-null  int64 \n",
      " 15  poutcome   45211 non-null  object\n",
      " 16  y          45211 non-null  object\n",
      "dtypes: int64(7), object(10)\n",
      "memory usage: 5.9+ MB\n"
     ]
    }
   ],
   "source": [
    "df.head()\n",
    "df.tail()\n",
    "df.info()"
   ]
  },
  {
   "cell_type": "code",
   "execution_count": 11,
   "metadata": {
    "colab": {
     "base_uri": "https://localhost:8080/"
    },
    "id": "zAUy_MiyMCg-",
    "outputId": "eecdf218-7cf9-49ed-ad2d-d10949618be8"
   },
   "outputs": [
    {
     "name": "stdout",
     "output_type": "stream",
     "text": [
      "Columns with dtype=object:\n",
      "Index(['job', 'marital', 'education', 'default', 'housing', 'loan', 'contact',\n",
      "       'month', 'poutcome', 'y'],\n",
      "      dtype='object')\n",
      "\n",
      "Unique values for column 'job':\n",
      "['management' 'technician' 'entrepreneur' 'blue-collar' 'unknown'\n",
      " 'retired' 'admin.' 'services' 'self-employed' 'unemployed' 'housemaid'\n",
      " 'student']\n",
      "\n",
      "Unique values for column 'marital':\n",
      "['married' 'single' 'divorced']\n",
      "\n",
      "Unique values for column 'education':\n",
      "['tertiary' 'secondary' 'unknown' 'primary']\n",
      "\n",
      "Unique values for column 'default':\n",
      "['no' 'yes']\n",
      "\n",
      "Unique values for column 'housing':\n",
      "['yes' 'no']\n",
      "\n",
      "Unique values for column 'loan':\n",
      "['no' 'yes']\n",
      "\n",
      "Unique values for column 'contact':\n",
      "['unknown' 'cellular' 'telephone']\n",
      "\n",
      "Unique values for column 'month':\n",
      "['may' 'jun' 'jul' 'aug' 'oct' 'nov' 'dec' 'jan' 'feb' 'mar' 'apr' 'sep']\n",
      "\n",
      "Unique values for column 'poutcome':\n",
      "['unknown' 'failure' 'other' 'success']\n",
      "\n",
      "Unique values for column 'y':\n",
      "['no' 'yes']\n",
      "\n",
      "Total number of null values in each column:\n",
      "age          0\n",
      "job          0\n",
      "marital      0\n",
      "education    0\n",
      "default      0\n",
      "balance      0\n",
      "housing      0\n",
      "loan         0\n",
      "contact      0\n",
      "day          0\n",
      "month        0\n",
      "duration     0\n",
      "campaign     0\n",
      "pdays        0\n",
      "previous     0\n",
      "poutcome     0\n",
      "y            0\n",
      "dtype: int64\n"
     ]
    }
   ],
   "source": [
    "\n",
    "object_columns = df.select_dtypes(include='object').columns\n",
    "\n",
    "print(\"Columns with dtype=object:\")\n",
    "print(object_columns)\n",
    "for col in object_columns:\n",
    "    print(f\"\\nUnique values for column '{col}':\")\n",
    "    print(df[col].unique())\n",
    "print(\"\\nTotal number of null values in each column:\")\n",
    "print(df.isnull().sum())"
   ]
  },
  {
   "cell_type": "code",
   "execution_count": 12,
   "metadata": {
    "id": "s9CNuZtgfSBp"
   },
   "outputs": [],
   "source": [
    "numeric_df = df.select_dtypes(exclude='object')\n",
    "numeric_df.to_csv('banknumericdata.csv', index=False)"
   ]
  },
  {
   "cell_type": "code",
   "execution_count": 13,
   "metadata": {
    "colab": {
     "base_uri": "https://localhost:8080/"
    },
    "id": "QxmiqGBHfYqJ",
    "outputId": "840aa1c1-6639-481a-9eb6-b3034a9382ea"
   },
   "outputs": [
    {
     "name": "stdout",
     "output_type": "stream",
     "text": [
      "                age        balance           day      duration      campaign  \\\n",
      "count  45211.000000   45211.000000  45211.000000  45211.000000  45211.000000   \n",
      "mean      40.936210    1362.272058     15.806419    258.163080      2.763841   \n",
      "std       10.618762    3044.765829      8.322476    257.527812      3.098021   \n",
      "min       18.000000   -8019.000000      1.000000      0.000000      1.000000   \n",
      "25%       33.000000      72.000000      8.000000    103.000000      1.000000   \n",
      "50%       39.000000     448.000000     16.000000    180.000000      2.000000   \n",
      "75%       48.000000    1428.000000     21.000000    319.000000      3.000000   \n",
      "max       95.000000  102127.000000     31.000000   4918.000000     63.000000   \n",
      "\n",
      "              pdays      previous  \n",
      "count  45211.000000  45211.000000  \n",
      "mean      40.197828      0.580323  \n",
      "std      100.128746      2.303441  \n",
      "min       -1.000000      0.000000  \n",
      "25%       -1.000000      0.000000  \n",
      "50%       -1.000000      0.000000  \n",
      "75%       -1.000000      0.000000  \n",
      "max      871.000000    275.000000  \n"
     ]
    }
   ],
   "source": [
    "\n",
    "df_numeric = pd.read_csv('banknumericdata.csv')\n",
    "print(df_numeric.describe())"
   ]
  },
  {
   "cell_type": "code",
   "execution_count": 14,
   "metadata": {
    "colab": {
     "base_uri": "https://localhost:8080/"
    },
    "id": "C_C5MPLJE9Vs",
    "outputId": "6080a1c4-1857-4df4-a5ad-f7b6761be3c9"
   },
   "outputs": [
    {
     "name": "stdout",
     "output_type": "stream",
     "text": [
      "   Student ID   Age  Gender      Height     Weight Blood Type        BMI  \\\n",
      "0         1.0  18.0  Female  161.777924  72.354947          O  27.645835   \n",
      "1         2.0   NaN    Male  152.069157  47.630941          B        NaN   \n",
      "2         3.0  32.0  Female  182.537664  55.741083          A  16.729017   \n",
      "3         NaN  30.0    Male  182.112867  63.332207          B  19.096042   \n",
      "4         5.0  23.0  Female         NaN  46.234173          O        NaN   \n",
      "\n",
      "   Temperature  Heart Rate  Blood Pressure  Cholesterol Diabetes Smoking  \n",
      "0          NaN        95.0           109.0        203.0       No     NaN  \n",
      "1    98.714977        93.0           104.0        163.0       No      No  \n",
      "2    98.260293        76.0           130.0        216.0      Yes      No  \n",
      "3    98.839605        99.0           112.0        141.0       No     Yes  \n",
      "4    98.480008        95.0             NaN        231.0       No      No  \n"
     ]
    }
   ],
   "source": [
    "df_medical = pd.read_csv('./medical_students_dataset.csv')\n",
    "print(df_medical.head())"
   ]
  },
  {
   "cell_type": "code",
   "execution_count": 15,
   "metadata": {
    "colab": {
     "base_uri": "https://localhost:8080/"
    },
    "id": "OJxrTO3bFmt0",
    "outputId": "2d552a3a-d2b7-49d1-c1cf-afed6c5e3f46"
   },
   "outputs": [
    {
     "name": "stdout",
     "output_type": "stream",
     "text": [
      "\n",
      "Total number of null values in each column of medical student dataset:\n",
      "Student ID        20000\n",
      "Age               20000\n",
      "Gender            20000\n",
      "Height            20000\n",
      "Weight            20000\n",
      "Blood Type        20000\n",
      "BMI               20000\n",
      "Temperature       20000\n",
      "Heart Rate        20000\n",
      "Blood Pressure    20000\n",
      "Cholesterol       20000\n",
      "Diabetes          20000\n",
      "Smoking           20000\n",
      "dtype: int64\n"
     ]
    }
   ],
   "source": [
    "print(\"\\nTotal number of null values in each column of medical student dataset:\")\n",
    "print(df_medical.isnull().sum())"
   ]
  },
  {
   "cell_type": "code",
   "execution_count": 16,
   "metadata": {
    "colab": {
     "base_uri": "https://localhost:8080/"
    },
    "id": "z4BrssZFFus_",
    "outputId": "f8861257-676c-49bb-eb1d-f1fb493484c4"
   },
   "outputs": [
    {
     "name": "stdout",
     "output_type": "stream",
     "text": [
      "\n",
      "Total number of null values after filling with median:\n",
      "Student ID            0\n",
      "Age                   0\n",
      "Gender            20000\n",
      "Height                0\n",
      "Weight                0\n",
      "Blood Type        20000\n",
      "BMI                   0\n",
      "Temperature           0\n",
      "Heart Rate            0\n",
      "Blood Pressure        0\n",
      "Cholesterol           0\n",
      "Diabetes          20000\n",
      "Smoking           20000\n",
      "dtype: int64\n"
     ]
    },
    {
     "name": "stderr",
     "output_type": "stream",
     "text": [
      "/var/folders/gr/gsthd9f16wbg2dkb6qnzp8s40000gn/T/ipykernel_1022/1689596866.py:4: FutureWarning: A value is trying to be set on a copy of a DataFrame or Series through chained assignment using an inplace method.\n",
      "The behavior will change in pandas 3.0. This inplace method will never work because the intermediate object on which we are setting values always behaves as a copy.\n",
      "\n",
      "For example, when doing 'df[col].method(value, inplace=True)', try using 'df.method({col: value}, inplace=True)' or df[col] = df[col].method(value) instead, to perform the operation inplace on the original object.\n",
      "\n",
      "\n",
      "  df_medical[col].fillna(median_val, inplace=True)\n",
      "/var/folders/gr/gsthd9f16wbg2dkb6qnzp8s40000gn/T/ipykernel_1022/1689596866.py:4: FutureWarning: A value is trying to be set on a copy of a DataFrame or Series through chained assignment using an inplace method.\n",
      "The behavior will change in pandas 3.0. This inplace method will never work because the intermediate object on which we are setting values always behaves as a copy.\n",
      "\n",
      "For example, when doing 'df[col].method(value, inplace=True)', try using 'df.method({col: value}, inplace=True)' or df[col] = df[col].method(value) instead, to perform the operation inplace on the original object.\n",
      "\n",
      "\n",
      "  df_medical[col].fillna(median_val, inplace=True)\n",
      "/var/folders/gr/gsthd9f16wbg2dkb6qnzp8s40000gn/T/ipykernel_1022/1689596866.py:4: FutureWarning: A value is trying to be set on a copy of a DataFrame or Series through chained assignment using an inplace method.\n",
      "The behavior will change in pandas 3.0. This inplace method will never work because the intermediate object on which we are setting values always behaves as a copy.\n",
      "\n",
      "For example, when doing 'df[col].method(value, inplace=True)', try using 'df.method({col: value}, inplace=True)' or df[col] = df[col].method(value) instead, to perform the operation inplace on the original object.\n",
      "\n",
      "\n",
      "  df_medical[col].fillna(median_val, inplace=True)\n",
      "/var/folders/gr/gsthd9f16wbg2dkb6qnzp8s40000gn/T/ipykernel_1022/1689596866.py:4: FutureWarning: A value is trying to be set on a copy of a DataFrame or Series through chained assignment using an inplace method.\n",
      "The behavior will change in pandas 3.0. This inplace method will never work because the intermediate object on which we are setting values always behaves as a copy.\n",
      "\n",
      "For example, when doing 'df[col].method(value, inplace=True)', try using 'df.method({col: value}, inplace=True)' or df[col] = df[col].method(value) instead, to perform the operation inplace on the original object.\n",
      "\n",
      "\n",
      "  df_medical[col].fillna(median_val, inplace=True)\n",
      "/var/folders/gr/gsthd9f16wbg2dkb6qnzp8s40000gn/T/ipykernel_1022/1689596866.py:4: FutureWarning: A value is trying to be set on a copy of a DataFrame or Series through chained assignment using an inplace method.\n",
      "The behavior will change in pandas 3.0. This inplace method will never work because the intermediate object on which we are setting values always behaves as a copy.\n",
      "\n",
      "For example, when doing 'df[col].method(value, inplace=True)', try using 'df.method({col: value}, inplace=True)' or df[col] = df[col].method(value) instead, to perform the operation inplace on the original object.\n",
      "\n",
      "\n",
      "  df_medical[col].fillna(median_val, inplace=True)\n",
      "/var/folders/gr/gsthd9f16wbg2dkb6qnzp8s40000gn/T/ipykernel_1022/1689596866.py:4: FutureWarning: A value is trying to be set on a copy of a DataFrame or Series through chained assignment using an inplace method.\n",
      "The behavior will change in pandas 3.0. This inplace method will never work because the intermediate object on which we are setting values always behaves as a copy.\n",
      "\n",
      "For example, when doing 'df[col].method(value, inplace=True)', try using 'df.method({col: value}, inplace=True)' or df[col] = df[col].method(value) instead, to perform the operation inplace on the original object.\n",
      "\n",
      "\n",
      "  df_medical[col].fillna(median_val, inplace=True)\n",
      "/var/folders/gr/gsthd9f16wbg2dkb6qnzp8s40000gn/T/ipykernel_1022/1689596866.py:4: FutureWarning: A value is trying to be set on a copy of a DataFrame or Series through chained assignment using an inplace method.\n",
      "The behavior will change in pandas 3.0. This inplace method will never work because the intermediate object on which we are setting values always behaves as a copy.\n",
      "\n",
      "For example, when doing 'df[col].method(value, inplace=True)', try using 'df.method({col: value}, inplace=True)' or df[col] = df[col].method(value) instead, to perform the operation inplace on the original object.\n",
      "\n",
      "\n",
      "  df_medical[col].fillna(median_val, inplace=True)\n",
      "/var/folders/gr/gsthd9f16wbg2dkb6qnzp8s40000gn/T/ipykernel_1022/1689596866.py:4: FutureWarning: A value is trying to be set on a copy of a DataFrame or Series through chained assignment using an inplace method.\n",
      "The behavior will change in pandas 3.0. This inplace method will never work because the intermediate object on which we are setting values always behaves as a copy.\n",
      "\n",
      "For example, when doing 'df[col].method(value, inplace=True)', try using 'df.method({col: value}, inplace=True)' or df[col] = df[col].method(value) instead, to perform the operation inplace on the original object.\n",
      "\n",
      "\n",
      "  df_medical[col].fillna(median_val, inplace=True)\n",
      "/var/folders/gr/gsthd9f16wbg2dkb6qnzp8s40000gn/T/ipykernel_1022/1689596866.py:4: FutureWarning: A value is trying to be set on a copy of a DataFrame or Series through chained assignment using an inplace method.\n",
      "The behavior will change in pandas 3.0. This inplace method will never work because the intermediate object on which we are setting values always behaves as a copy.\n",
      "\n",
      "For example, when doing 'df[col].method(value, inplace=True)', try using 'df.method({col: value}, inplace=True)' or df[col] = df[col].method(value) instead, to perform the operation inplace on the original object.\n",
      "\n",
      "\n",
      "  df_medical[col].fillna(median_val, inplace=True)\n"
     ]
    }
   ],
   "source": [
    "for col in df_medical.select_dtypes(include=['number']):\n",
    "    if df_medical[col].isnull().any():\n",
    "        median_val = df_medical[col].median()\n",
    "        df_medical[col].fillna(median_val, inplace=True)\n",
    "\n",
    "print(\"\\nTotal number of null values after filling with median:\")\n",
    "print(df_medical.isnull().sum())"
   ]
  },
  {
   "cell_type": "code",
   "execution_count": 17,
   "metadata": {
    "colab": {
     "base_uri": "https://localhost:8080/"
    },
    "id": "ASwO3gDEGWd_",
    "outputId": "7efe839e-937d-4afb-e118-5147abfac7e2"
   },
   "outputs": [
    {
     "name": "stdout",
     "output_type": "stream",
     "text": [
      "   Student ID   Age  Gender      Height     Weight Blood Type        BMI  \\\n",
      "0         1.0  18.0  Female  161.777924  72.354947          O  27.645835   \n",
      "1         2.0   NaN    Male  152.069157  47.630941          B        NaN   \n",
      "2         3.0  32.0  Female  182.537664  55.741083          A  16.729017   \n",
      "3         NaN  30.0    Male  182.112867  63.332207          B  19.096042   \n",
      "4         5.0  23.0  Female         NaN  46.234173          O        NaN   \n",
      "\n",
      "   Temperature  Heart Rate  Blood Pressure  Cholesterol Diabetes Smoking  \n",
      "0          NaN        95.0           109.0        203.0       No     NaN  \n",
      "1    98.714977        93.0           104.0        163.0       No      No  \n",
      "2    98.260293        76.0           130.0        216.0      Yes      No  \n",
      "3    98.839605        99.0           112.0        141.0       No     Yes  \n",
      "4    98.480008        95.0             NaN        231.0       No      No  \n",
      "\n",
      "Total number of null values in each column of medical student dataset:\n",
      "Student ID        20000\n",
      "Age               20000\n",
      "Gender            20000\n",
      "Height            20000\n",
      "Weight            20000\n",
      "Blood Type        20000\n",
      "BMI               20000\n",
      "Temperature       20000\n",
      "Heart Rate        20000\n",
      "Blood Pressure    20000\n",
      "Cholesterol       20000\n",
      "Diabetes          20000\n",
      "Smoking           20000\n",
      "dtype: int64\n",
      "\n",
      "Total number of null values after filling with median:\n",
      "Student ID            0\n",
      "Age                   0\n",
      "Gender            20000\n",
      "Height                0\n",
      "Weight                0\n",
      "Blood Type        20000\n",
      "BMI                   0\n",
      "Temperature           0\n",
      "Heart Rate            0\n",
      "Blood Pressure        0\n",
      "Cholesterol           0\n",
      "Diabetes          20000\n",
      "Smoking           20000\n",
      "dtype: int64\n",
      "\n",
      "Number of duplicate rows: 7837\n",
      "\n",
      "Number of rows in original DataFrame: 200000\n",
      "Number of rows in new DataFrame: 192163\n"
     ]
    },
    {
     "name": "stderr",
     "output_type": "stream",
     "text": [
      "/var/folders/gr/gsthd9f16wbg2dkb6qnzp8s40000gn/T/ipykernel_1022/3500145762.py:8: FutureWarning: A value is trying to be set on a copy of a DataFrame or Series through chained assignment using an inplace method.\n",
      "The behavior will change in pandas 3.0. This inplace method will never work because the intermediate object on which we are setting values always behaves as a copy.\n",
      "\n",
      "For example, when doing 'df[col].method(value, inplace=True)', try using 'df.method({col: value}, inplace=True)' or df[col] = df[col].method(value) instead, to perform the operation inplace on the original object.\n",
      "\n",
      "\n",
      "  df_medical[col].fillna(median_val, inplace=True)\n",
      "/var/folders/gr/gsthd9f16wbg2dkb6qnzp8s40000gn/T/ipykernel_1022/3500145762.py:8: FutureWarning: A value is trying to be set on a copy of a DataFrame or Series through chained assignment using an inplace method.\n",
      "The behavior will change in pandas 3.0. This inplace method will never work because the intermediate object on which we are setting values always behaves as a copy.\n",
      "\n",
      "For example, when doing 'df[col].method(value, inplace=True)', try using 'df.method({col: value}, inplace=True)' or df[col] = df[col].method(value) instead, to perform the operation inplace on the original object.\n",
      "\n",
      "\n",
      "  df_medical[col].fillna(median_val, inplace=True)\n",
      "/var/folders/gr/gsthd9f16wbg2dkb6qnzp8s40000gn/T/ipykernel_1022/3500145762.py:8: FutureWarning: A value is trying to be set on a copy of a DataFrame or Series through chained assignment using an inplace method.\n",
      "The behavior will change in pandas 3.0. This inplace method will never work because the intermediate object on which we are setting values always behaves as a copy.\n",
      "\n",
      "For example, when doing 'df[col].method(value, inplace=True)', try using 'df.method({col: value}, inplace=True)' or df[col] = df[col].method(value) instead, to perform the operation inplace on the original object.\n",
      "\n",
      "\n",
      "  df_medical[col].fillna(median_val, inplace=True)\n",
      "/var/folders/gr/gsthd9f16wbg2dkb6qnzp8s40000gn/T/ipykernel_1022/3500145762.py:8: FutureWarning: A value is trying to be set on a copy of a DataFrame or Series through chained assignment using an inplace method.\n",
      "The behavior will change in pandas 3.0. This inplace method will never work because the intermediate object on which we are setting values always behaves as a copy.\n",
      "\n",
      "For example, when doing 'df[col].method(value, inplace=True)', try using 'df.method({col: value}, inplace=True)' or df[col] = df[col].method(value) instead, to perform the operation inplace on the original object.\n",
      "\n",
      "\n",
      "  df_medical[col].fillna(median_val, inplace=True)\n",
      "/var/folders/gr/gsthd9f16wbg2dkb6qnzp8s40000gn/T/ipykernel_1022/3500145762.py:8: FutureWarning: A value is trying to be set on a copy of a DataFrame or Series through chained assignment using an inplace method.\n",
      "The behavior will change in pandas 3.0. This inplace method will never work because the intermediate object on which we are setting values always behaves as a copy.\n",
      "\n",
      "For example, when doing 'df[col].method(value, inplace=True)', try using 'df.method({col: value}, inplace=True)' or df[col] = df[col].method(value) instead, to perform the operation inplace on the original object.\n",
      "\n",
      "\n",
      "  df_medical[col].fillna(median_val, inplace=True)\n",
      "/var/folders/gr/gsthd9f16wbg2dkb6qnzp8s40000gn/T/ipykernel_1022/3500145762.py:8: FutureWarning: A value is trying to be set on a copy of a DataFrame or Series through chained assignment using an inplace method.\n",
      "The behavior will change in pandas 3.0. This inplace method will never work because the intermediate object on which we are setting values always behaves as a copy.\n",
      "\n",
      "For example, when doing 'df[col].method(value, inplace=True)', try using 'df.method({col: value}, inplace=True)' or df[col] = df[col].method(value) instead, to perform the operation inplace on the original object.\n",
      "\n",
      "\n",
      "  df_medical[col].fillna(median_val, inplace=True)\n",
      "/var/folders/gr/gsthd9f16wbg2dkb6qnzp8s40000gn/T/ipykernel_1022/3500145762.py:8: FutureWarning: A value is trying to be set on a copy of a DataFrame or Series through chained assignment using an inplace method.\n",
      "The behavior will change in pandas 3.0. This inplace method will never work because the intermediate object on which we are setting values always behaves as a copy.\n",
      "\n",
      "For example, when doing 'df[col].method(value, inplace=True)', try using 'df.method({col: value}, inplace=True)' or df[col] = df[col].method(value) instead, to perform the operation inplace on the original object.\n",
      "\n",
      "\n",
      "  df_medical[col].fillna(median_val, inplace=True)\n",
      "/var/folders/gr/gsthd9f16wbg2dkb6qnzp8s40000gn/T/ipykernel_1022/3500145762.py:8: FutureWarning: A value is trying to be set on a copy of a DataFrame or Series through chained assignment using an inplace method.\n",
      "The behavior will change in pandas 3.0. This inplace method will never work because the intermediate object on which we are setting values always behaves as a copy.\n",
      "\n",
      "For example, when doing 'df[col].method(value, inplace=True)', try using 'df.method({col: value}, inplace=True)' or df[col] = df[col].method(value) instead, to perform the operation inplace on the original object.\n",
      "\n",
      "\n",
      "  df_medical[col].fillna(median_val, inplace=True)\n",
      "/var/folders/gr/gsthd9f16wbg2dkb6qnzp8s40000gn/T/ipykernel_1022/3500145762.py:8: FutureWarning: A value is trying to be set on a copy of a DataFrame or Series through chained assignment using an inplace method.\n",
      "The behavior will change in pandas 3.0. This inplace method will never work because the intermediate object on which we are setting values always behaves as a copy.\n",
      "\n",
      "For example, when doing 'df[col].method(value, inplace=True)', try using 'df.method({col: value}, inplace=True)' or df[col] = df[col].method(value) instead, to perform the operation inplace on the original object.\n",
      "\n",
      "\n",
      "  df_medical[col].fillna(median_val, inplace=True)\n"
     ]
    }
   ],
   "source": [
    "\n",
    "df_medical = pd.read_csv('./medical_students_dataset.csv')\n",
    "print(df_medical.head())\n",
    "print(\"\\nTotal number of null values in each column of medical student dataset:\")\n",
    "print(df_medical.isnull().sum())\n",
    "for col in df_medical.select_dtypes(include=['number']):\n",
    "    if df_medical[col].isnull().any():\n",
    "        median_val = df_medical[col].median()\n",
    "        df_medical[col].fillna(median_val, inplace=True)\n",
    "\n",
    "print(\"\\nTotal number of null values after filling with median:\")\n",
    "print(df_medical.isnull().sum())\n",
    "print(\"\\nNumber of duplicate rows:\", df_medical.duplicated().sum())\n",
    "\n",
    "df_medical_no_duplicates = df_medical.drop_duplicates()\n",
    "print(\"\\nNumber of rows in original DataFrame:\", len(df_medical))\n",
    "print(\"Number of rows in new DataFrame:\", len(df_medical_no_duplicates))"
   ]
  },
  {
   "cell_type": "code",
   "execution_count": 18,
   "metadata": {
    "id": "T7YWOqDxG1kJ"
   },
   "outputs": [],
   "source": [
    "titanic_df = pd.read_csv('./Titanic-Dataset.csv')"
   ]
  },
  {
   "cell_type": "code",
   "execution_count": 19,
   "metadata": {
    "id": "Lu1lJCizHKma"
   },
   "outputs": [],
   "source": [
    "subset_df = titanic_df[['Name', 'Pclass', 'Sex', 'Age', 'Fare', 'Survived']]\n",
    "first_class_df = subset_df[subset_df['Pclass'] == 1]\n",
    "fare_mean = first_class_df['Fare'].mean()\n",
    "fare_median = first_class_df['Fare'].median()\n",
    "fare_max = first_class_df['Fare'].max()\n",
    "fare_min = first_class_df['Fare'].min()\n",
    "\n"
   ]
  },
  {
   "cell_type": "code",
   "execution_count": 20,
   "metadata": {
    "colab": {
     "base_uri": "https://localhost:8080/"
    },
    "id": "3XUhNEmZHNc9",
    "outputId": "acd44eee-890e-4b9b-f20d-eca9ffda6fc9"
   },
   "outputs": [
    {
     "name": "stdout",
     "output_type": "stream",
     "text": [
      "Mean Fare: 84.1546875\n",
      "Median Fare: 60.287499999999994\n",
      "Maximum Fare: 512.3292\n",
      "Minimum Fare: 0.0\n"
     ]
    }
   ],
   "source": [
    "print(f\"Mean Fare: {fare_mean}\")\n",
    "print(f\"Median Fare: {fare_median}\")\n",
    "print(f\"Maximum Fare: {fare_max}\")\n",
    "print(f\"Minimum Fare: {fare_min}\")"
   ]
  },
  {
   "cell_type": "code",
   "execution_count": 21,
   "metadata": {
    "colab": {
     "base_uri": "https://localhost:8080/"
    },
    "id": "5Fpozgq2HWjR",
    "outputId": "710a5458-4fa8-4e5c-f1a0-81590aecb429"
   },
   "outputs": [
    {
     "name": "stdout",
     "output_type": "stream",
     "text": [
      "Number of null values in 'Age' column: 30\n",
      "Number of null values in 'Age' column after dropping: 0\n"
     ]
    }
   ],
   "source": [
    "null_age_count = first_class_df['Age'].isnull().sum()\n",
    "print(f\"Number of null values in 'Age' column: {null_age_count}\")\n",
    "first_class_df_no_nulls = first_class_df.dropna(subset=['Age'])\n",
    "print(f\"Number of null values in 'Age' column after dropping: {first_class_df_no_nulls['Age'].isnull().sum()}\")"
   ]
  },
  {
   "cell_type": "code",
   "execution_count": 22,
   "metadata": {
    "colab": {
     "base_uri": "https://localhost:8080/"
    },
    "id": "2GgviPnnHldS",
    "outputId": "149ffeb3-3d01-434a-b4d9-bc7dcf6e26ef"
   },
   "outputs": [
    {
     "name": "stdout",
     "output_type": "stream",
     "text": [
      "   PassengerId  Survived  Pclass  \\\n",
      "0            1         0       3   \n",
      "1            2         1       1   \n",
      "2            3         1       3   \n",
      "3            4         1       1   \n",
      "4            5         0       3   \n",
      "\n",
      "                                                Name     Sex   Age  SibSp  \\\n",
      "0                            Braund, Mr. Owen Harris    male  22.0      1   \n",
      "1  Cumings, Mrs. John Bradley (Florence Briggs Th...  female  38.0      1   \n",
      "2                             Heikkinen, Miss. Laina  female  26.0      0   \n",
      "3       Futrelle, Mrs. Jacques Heath (Lily May Peel)  female  35.0      1   \n",
      "4                           Allen, Mr. William Henry    male  35.0      0   \n",
      "\n",
      "   Parch            Ticket     Fare Cabin Embarked  Embarked_C  Embarked_Q  \\\n",
      "0      0         A/5 21171   7.2500   NaN        S       False       False   \n",
      "1      0          PC 17599  71.2833   C85        C        True       False   \n",
      "2      0  STON/O2. 3101282   7.9250   NaN        S       False       False   \n",
      "3      0            113803  53.1000  C123        S       False       False   \n",
      "4      0            373450   8.0500   NaN        S       False       False   \n",
      "\n",
      "   Embarked_S  \n",
      "0        True  \n",
      "1       False  \n",
      "2        True  \n",
      "3        True  \n",
      "4        True  \n"
     ]
    }
   ],
   "source": [
    "\n",
    "embarked_dummies = pd.get_dummies(titanic_df['Embarked'], prefix='Embarked')\n",
    "\n",
    "titanic_df = pd.concat([titanic_df, embarked_dummies], axis=1)\n",
    "\n",
    "print(titanic_df.head())"
   ]
  },
  {
   "cell_type": "code",
   "execution_count": 23,
   "metadata": {
    "colab": {
     "base_uri": "https://localhost:8080/"
    },
    "id": "W7PT34FNHuYw",
    "outputId": "7fa1be39-32e2-46e4-c9d8-74a0dad754ef"
   },
   "outputs": [
    {
     "name": "stdout",
     "output_type": "stream",
     "text": [
      "   PassengerId  Survived  Pclass  \\\n",
      "0            1         0       3   \n",
      "1            2         1       1   \n",
      "2            3         1       3   \n",
      "3            4         1       1   \n",
      "4            5         0       3   \n",
      "\n",
      "                                                Name     Sex   Age  SibSp  \\\n",
      "0                            Braund, Mr. Owen Harris    male  22.0      1   \n",
      "1  Cumings, Mrs. John Bradley (Florence Briggs Th...  female  38.0      1   \n",
      "2                             Heikkinen, Miss. Laina  female  26.0      0   \n",
      "3       Futrelle, Mrs. Jacques Heath (Lily May Peel)  female  35.0      1   \n",
      "4                           Allen, Mr. William Henry    male  35.0      0   \n",
      "\n",
      "   Parch            Ticket     Fare Cabin Embarked  Embarked_C  Embarked_Q  \\\n",
      "0      0         A/5 21171   7.2500   NaN        S       False       False   \n",
      "1      0          PC 17599  71.2833   C85        C        True       False   \n",
      "2      0  STON/O2. 3101282   7.9250   NaN        S       False       False   \n",
      "3      0            113803  53.1000  C123        S       False       False   \n",
      "4      0            373450   8.0500   NaN        S       False       False   \n",
      "\n",
      "   Embarked_S  NewColumn1  NewColumn2 NewColumn3  \n",
      "0        True          10        44.0      Young  \n",
      "1       False          10        76.0      Young  \n",
      "2        True          10        52.0      Young  \n",
      "3        True          10        70.0      Young  \n",
      "4        True          10        70.0      Young  \n"
     ]
    }
   ],
   "source": [
    "titanic_df['NewColumn1'] = 10\n",
    "\n",
    "titanic_df['NewColumn2'] = titanic_df['Age'] * 2\n",
    "\n",
    "titanic_df['NewColumn3'] = ['Old' if age > 60 else 'Young' for age in titanic_df['Age']]\n",
    "\n",
    "print(titanic_df.head())"
   ]
  },
  {
   "cell_type": "code",
   "execution_count": 24,
   "metadata": {
    "colab": {
     "base_uri": "https://localhost:8080/"
    },
    "id": "q52mQfupHzBG",
    "outputId": "affc2331-5e6e-4bca-ddb2-27c030d3f134"
   },
   "outputs": [
    {
     "name": "stdout",
     "output_type": "stream",
     "text": [
      "   PassengerId  Survived  Pclass  \\\n",
      "0            1         0       3   \n",
      "1            2         1       1   \n",
      "2            3         1       3   \n",
      "3            4         1       1   \n",
      "4            5         0       3   \n",
      "\n",
      "                                                Name     Sex   Age  SibSp  \\\n",
      "0                            Braund, Mr. Owen Harris    male  22.0      1   \n",
      "1  Cumings, Mrs. John Bradley (Florence Briggs Th...  female  38.0      1   \n",
      "2                             Heikkinen, Miss. Laina  female  26.0      0   \n",
      "3       Futrelle, Mrs. Jacques Heath (Lily May Peel)  female  35.0      1   \n",
      "4                           Allen, Mr. William Henry    male  35.0      0   \n",
      "\n",
      "   Parch            Ticket     Fare Cabin  Embarked_C  Embarked_Q  Embarked_S  \\\n",
      "0      0         A/5 21171   7.2500   NaN       False       False        True   \n",
      "1      0          PC 17599  71.2833   C85        True       False       False   \n",
      "2      0  STON/O2. 3101282   7.9250   NaN       False       False        True   \n",
      "3      0            113803  53.1000  C123       False       False        True   \n",
      "4      0            373450   8.0500   NaN       False       False        True   \n",
      "\n",
      "   NewColumn1  NewColumn2 NewColumn3  \n",
      "0          10        44.0      Young  \n",
      "1          10        76.0      Young  \n",
      "2          10        52.0      Young  \n",
      "3          10        70.0      Young  \n",
      "4          10        70.0      Young  \n"
     ]
    }
   ],
   "source": [
    "\n",
    "titanic_df = titanic_df.drop('Embarked', axis=1)\n",
    "\n",
    "print(titanic_df.head())"
   ]
  },
  {
   "cell_type": "code",
   "execution_count": 25,
   "metadata": {
    "colab": {
     "base_uri": "https://localhost:8080/",
     "height": 1000
    },
    "id": "K_4u9vnZIKLI",
    "outputId": "96930235-097b-44dc-ba7c-80e584a5f72d"
   },
   "outputs": [
    {
     "ename": "ModuleNotFoundError",
     "evalue": "No module named 'seaborn'",
     "output_type": "error",
     "traceback": [
      "\u001b[0;31m---------------------------------------------------------------------------\u001b[0m",
      "\u001b[0;31mModuleNotFoundError\u001b[0m                       Traceback (most recent call last)",
      "Cell \u001b[0;32mIn[25], line 2\u001b[0m\n\u001b[1;32m      1\u001b[0m \u001b[38;5;28;01mimport\u001b[39;00m \u001b[38;5;21;01mmatplotlib\u001b[39;00m\u001b[38;5;21;01m.\u001b[39;00m\u001b[38;5;21;01mpyplot\u001b[39;00m \u001b[38;5;28;01mas\u001b[39;00m \u001b[38;5;21;01mplt\u001b[39;00m\n\u001b[0;32m----> 2\u001b[0m \u001b[38;5;28;01mimport\u001b[39;00m \u001b[38;5;21;01mseaborn\u001b[39;00m \u001b[38;5;28;01mas\u001b[39;00m \u001b[38;5;21;01msns\u001b[39;00m\n\u001b[1;32m      3\u001b[0m mean_survival_by_sex \u001b[38;5;241m=\u001b[39m titanic_df\u001b[38;5;241m.\u001b[39mgroupby(\u001b[38;5;124m'\u001b[39m\u001b[38;5;124mSex\u001b[39m\u001b[38;5;124m'\u001b[39m)[\u001b[38;5;124m'\u001b[39m\u001b[38;5;124mSurvived\u001b[39m\u001b[38;5;124m'\u001b[39m]\u001b[38;5;241m.\u001b[39mmean()\n\u001b[1;32m      4\u001b[0m \u001b[38;5;28mprint\u001b[39m(mean_survival_by_sex)\n",
      "\u001b[0;31mModuleNotFoundError\u001b[0m: No module named 'seaborn'"
     ]
    }
   ],
   "source": [
    "import matplotlib.pyplot as plt\n",
    "import seaborn as sns\n",
    "mean_survival_by_sex = titanic_df.groupby('Sex')['Survived'].mean()\n",
    "print(mean_survival_by_sex)\n",
    "plt.figure(figsize=(8, 6))\n",
    "sns.histplot(data=titanic_df, x='Age', hue='Sex', kde=True, element=\"step\", stat=\"density\", common_norm=False)\n",
    "plt.title('Survival Distribution by Gender')\n",
    "plt.xlabel('Age')\n",
    "plt.ylabel('Density')\n",
    "plt.show()\n",
    "\n",
    "plt.figure(figsize=(8, 6))\n",
    "sns.kdeplot(data=titanic_df, x='Age', hue='Sex', common_norm=False, fill=True)\n",
    "plt.title('Survival Distribution by Gender')\n",
    "plt.xlabel('Age')\n",
    "plt.ylabel('Density')\n",
    "plt.show()"
   ]
  },
  {
   "cell_type": "code",
   "execution_count": null,
   "metadata": {
    "colab": {
     "base_uri": "https://localhost:8080/",
     "height": 564
    },
    "id": "m8nZ3xfCITyO",
    "outputId": "6dfc7ec5-6d74-417c-f9bd-436be5077095"
   },
   "outputs": [
    {
     "data": {
      "image/png": "[encoded data removed]",
      "text/plain": [
       "<Figure size 800x600 with 1 Axes>"
      ]
     },
     "metadata": {},
     "output_type": "display_data"
    }
   ],
   "source": [
    "survival_by_embarkation = titanic_df.groupby('Embarked_C')['Survived'].mean()\n",
    "plt.figure(figsize=(8, 6))\n",
    "survival_by_embarkation.plot(kind='bar')\n",
    "plt.title('Survival Rate by Port of Embarkation')\n",
    "plt.xlabel('Port of Embarkation')\n",
    "plt.ylabel('Survival Rate')\n",
    "plt.xticks(rotation=0)\n",
    "plt.show()"
   ]
  },
  {
   "cell_type": "code",
   "execution_count": null,
   "metadata": {
    "colab": {
     "base_uri": "https://localhost:8080/",
     "height": 476
    },
    "id": "0AAPq7qHIroP",
    "outputId": "73898733-6fe9-4408-d05d-b470bf86894d"
   },
   "outputs": [
    {
     "data": {
      "image/png": "[encoded data removed]",
      "text/plain": [
       "<Figure size 2000x1000 with 1 Axes>"
      ]
     },
     "metadata": {},
     "output_type": "display_data"
    }
   ],
   "source": [
    "titanic_df['Age_Group'] = pd.qcut(titanic_df['Age'], q=5, labels=False)\n",
    "survival_rates = titanic_df.groupby(['Pclass', 'Age_Group'])['Survived'].mean().unstack()\n",
    "plt.figure(figsize=(20, 10))\n",
    "for pclass in survival_rates.index:\n",
    "    plt.scatter(survival_rates.columns, survival_rates.loc[pclass], label=f'Pclass {pclass}')\n",
    "plt.xlabel('Age Group (Quantiles)')\n",
    "plt.ylabel('Mean Survival Rate')\n",
    "plt.title('Survival Rates by Age Group and Passenger Class')\n",
    "plt.xticks(range(5)) \n",
    "plt.legend()\n",
    "plt.grid(True)\n",
    "plt.show()"
   ]
  }
 ],
 "metadata": {
  "colab": {
   "provenance": []
  },
  "kernelspec": {
   "display_name": "Python 3",
   "name": "python3"
  },
  "language_info": {
   "codemirror_mode": {
    "name": "ipython",
    "version": 3
   },
   "file_extension": ".py",
   "mimetype": "text/x-python",
   "name": "python",
   "nbconvert_exporter": "python",
   "pygments_lexer": "ipython3",
   "version": "3.12.0"
  }
 },
 "nbformat": 4,
 "nbformat_minor": 0
}
